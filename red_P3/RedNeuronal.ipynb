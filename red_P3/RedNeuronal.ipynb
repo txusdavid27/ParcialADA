{
  "cells": [
    {
      "cell_type": "markdown",
      "source": [
        "# Modelo de Red Neuronal para Parcial 3"
      ],
      "metadata": {
        "id": "-a7Lzh7bKChb"
      }
    },
    {
      "cell_type": "markdown",
      "source": [
        "Los datos entregados por el modelo ```población y consumo de alcohol``` "
      ],
      "metadata": {
        "id": "nxXXqV-uwv4_"
      }
    },
    {
      "cell_type": "code",
      "execution_count": 1,
      "metadata": {
        "id": "HQ6p-J9GJbfe"
      },
      "outputs": [],
      "source": [
        "# Importar librerias\n",
        "import pandas as pd\n",
        "from sklearn.model_selection import train_test_split\n",
        "import tensorflow as tf\n",
        "import numpy as np\n",
        "import matplotlib.pyplot as plt"
      ]
    },
    {
      "cell_type": "code",
      "source": [
        "data = pd.read_csv('Data_pot.csv',\n",
        "                 skiprows=1,\n",
        "                 names=[' ', ' One', 'UrbanP', 'LateB', 'WineC', 'LiquorC','CDR'],\n",
        "                 na_values=['?'],\n",
        "                 index_col=[' '])"
      ],
      "metadata": {
        "id": "-wnWTchz_OBZ"
      },
      "execution_count": 2,
      "outputs": []
    },
    {
      "cell_type": "code",
      "source": [
        "data.info()"
      ],
      "metadata": {
        "colab": {
          "base_uri": "https://localhost:8080/"
        },
        "id": "Cq1QCL6g_i06",
        "outputId": "29e95c90-aa2d-47bd-dd7d-b94d7b2585d8"
      },
      "execution_count": 4,
      "outputs": [
        {
          "output_type": "stream",
          "name": "stdout",
          "text": [
            "<class 'pandas.core.frame.DataFrame'>\n",
            "Int64Index: 46 entries, 1 to 46\n",
            "Data columns (total 6 columns):\n",
            " #   Column   Non-Null Count  Dtype  \n",
            "---  ------   --------------  -----  \n",
            " 0    One     46 non-null     int64  \n",
            " 1   UrbanP   46 non-null     int64  \n",
            " 2   LateB    46 non-null     float64\n",
            " 3   WineC    46 non-null     int64  \n",
            " 4   LiquorC  46 non-null     int64  \n",
            " 5   CDR      46 non-null     float64\n",
            "dtypes: float64(2), int64(4)\n",
            "memory usage: 2.5 KB\n"
          ]
        }
      ]
    },
    {
      "cell_type": "markdown",
      "source": [
        "### Data Potencia: Entrenamiento - Validacion "
      ],
      "metadata": {
        "id": "MHrUGz6S9WFW"
      }
    },
    {
      "cell_type": "code",
      "source": [
        "train_1, test_1 = train_test_split(data, test_size = 0.30)\n",
        "train_1.to_csv('train_pot.csv')\n",
        "test_1.to_csv('test_pot.csv')"
      ],
      "metadata": {
        "id": "vyIFXmOmAEsb"
      },
      "execution_count": 5,
      "outputs": []
    },
    {
      "cell_type": "markdown",
      "source": [
        "### Modelo\n"
      ],
      "metadata": {
        "id": "Wjg7fHjsAjDZ"
      }
    },
    {
      "cell_type": "markdown",
      "source": [
        "Vamos a predecir la ```CDR``` teniendo como entrada todas las variables."
      ],
      "metadata": {
        "id": "mQxlbfsXZBr8"
      }
    },
    {
      "cell_type": "markdown",
      "source": [
        "### Entrenar con las 4 columnas "
      ],
      "metadata": {
        "id": "O42o9h_kApQl"
      }
    },
    {
      "cell_type": "code",
      "source": [
        "a1 = train_1['UrbanP']\n",
        "a2 = train_1['LateB']\n",
        "a3 = train_1['WineC']\n",
        "a4 = train_1['LiquorC']\n",
        "\n",
        "entrada = np.array(np.column_stack((a1,a2,a3,a4)), dtype='float')\n",
        "\n",
        "p = train_1['CDR']\n",
        "\n",
        "##############################################################\n",
        "\n",
        "salida = np.array(np.transpose(p), dtype='float')\n",
        "oculta1 = tf.keras.layers.Dense(units=5, input_shape=[4])\n",
        "oculta2 = tf.keras.layers.Dense(units=2)\n",
        "oculta3 = tf.keras.layers.Dense(units=2)\n",
        "oculta4 = tf.keras.layers.Dense(units=2)\n",
        "output = tf.keras.layers.Dense(units=1)\n",
        "\n",
        "###############################################################\n",
        "modelo = tf.keras.Sequential([oculta1,  oculta2, oculta3,  oculta4, output])\n",
        "###############################################################\n",
        "\n",
        "modelo.compile(\n",
        "    optimizer = tf.keras.optimizers.Adam(0.1),\n",
        "    loss = 'mean_squared_error'\n",
        ")\n",
        "###############################################################\n",
        "\n",
        "print(\"Comenzando entrenamiento ... \")\n",
        "historial = modelo.fit(entrada,salida, epochs=100, verbose=False)\n",
        "print(\"Modelo entranado!\")\n",
        "###############################################################\n",
        "plt.xlabel(\"# Epoca\")\n",
        "plt.ylabel(\"Magnitud de perdida\")\n",
        "plt.plot(historial.history[\"loss\"])"
      ],
      "metadata": {
        "colab": {
          "base_uri": "https://localhost:8080/",
          "height": 331
        },
        "id": "PixjQX0Gk-i7",
        "outputId": "d4da4527-182c-402d-8495-cdab020d8eed"
      },
      "execution_count": 23,
      "outputs": [
        {
          "output_type": "stream",
          "name": "stdout",
          "text": [
            "Comenzando entrenamiento ... \n",
            "Modelo entranado!\n"
          ]
        },
        {
          "output_type": "execute_result",
          "data": {
            "text/plain": [
              "[<matplotlib.lines.Line2D at 0x7fa7c5457410>]"
            ]
          },
          "metadata": {},
          "execution_count": 23
        },
        {
          "output_type": "display_data",
          "data": {
            "text/plain": [
              "<Figure size 432x288 with 1 Axes>"
            ],
            "image/png": "[encoded data removed]"
          },
          "metadata": {
            "needs_background": "light"
          }
        }
      ]
    },
    {
      "cell_type": "code",
      "source": [
        "print(\"Variables internas del modelo\")\n",
        "print(oculta1.get_weights())\n",
        "print(oculta2.get_weights())\n",
        "print(oculta3.get_weights())\n",
        "print(oculta4.get_weights())\n",
        "print(output.get_weights())"
      ],
      "metadata": {
        "colab": {
          "base_uri": "https://localhost:8080/"
        },
        "id": "SDWb2qJnmzlV",
        "outputId": "dece811c-12f4-409a-c629-9120f0530f8f"
      },
      "execution_count": 27,
      "outputs": [
        {
          "output_type": "stream",
          "name": "stdout",
          "text": [
            "Variables internas del modelo\n",
            "[array([[-0.5981066 ,  1.3173134 ,  0.03321612, -0.331444  ,  0.74674237],\n",
            "       [-0.9385535 ,  1.4096887 , -1.408351  , -1.205198  ,  0.1032872 ],\n",
            "       [-1.079467  ,  1.1575068 , -1.3256963 , -0.96577114,  1.4014134 ],\n",
            "       [-1.124119  ,  0.19543718,  0.00513292, -0.36277315,  0.78087807]],\n",
            "      dtype=float32), array([-0.76595104,  0.6914713 , -0.7933956 , -0.75815916,  0.5201491 ],\n",
            "      dtype=float32)]\n",
            "[array([[ 0.9973092 , -1.6132444 ],\n",
            "       [-1.6985945 ,  1.1146846 ],\n",
            "       [-0.5351129 ,  0.24716382],\n",
            "       [ 0.1313606 ,  0.02599792],\n",
            "       [-0.8021603 , -0.68905056]], dtype=float32), array([-0.7026665 ,  0.80994594], dtype=float32)]\n",
            "[array([[-0.28271946,  0.60010403],\n",
            "       [-0.59912133,  0.24925296]], dtype=float32), array([-0.8249285 , -0.74712235], dtype=float32)]\n",
            "[array([[-0.01148756, -0.1170872 ],\n",
            "       [-0.8556712 , -0.02037659]], dtype=float32), array([0.72271085, 0.8682301 ], dtype=float32)]\n",
            "[array([[ 0.36491808],\n",
            "       [-0.01860785]], dtype=float32), array([0.64554816], dtype=float32)]\n"
          ]
        }
      ]
    },
    {
      "cell_type": "code",
      "source": [
        "# Modelo\n",
        "w1 = np.array([[ -0.5981066 ,  1.3173134 ,  0.03321612, -0.331444  ,  0.74674237],\n",
        "       [-0.9385535 ,  1.4096887 , -1.408351  , -1.205198  ,  0.1032872 ],\n",
        "       [-1.079467  ,  1.1575068 , -1.3256963 , -0.96577114,  1.4014134 ],\n",
        "       [-1.124119  ,  0.19543718,  0.00513292, -0.36277315,  0.78087807]],\n",
        "      dtype='float')\n",
        "b1 = np.array([-0.76595104,  0.6914713 , -0.7933956 , -0.75815916,  0.5201491 ],\n",
        "      dtype='float')\n",
        "w2 = np.array([[ 0.9973092 , -1.6132444 ],\n",
        "       [-1.6985945 ,  1.1146846 ],\n",
        "       [-0.5351129 ,  0.24716382],\n",
        "       [ 0.1313606 ,  0.02599792],\n",
        "       [-0.8021603 , -0.68905056]], dtype='float')\n",
        "b2 = np.array([-0.7026665 ,  0.80994594], dtype='float')\n",
        "w3 = np.array([[-0.28271946,  0.60010403],\n",
        "       [-0.59912133,  0.24925296]], dtype='float')\n",
        "b3 = np.array([-0.8249285 , -0.74712235], dtype='float')\n",
        "\n",
        "w4 = np.array([[-0.01148756, -0.1170872 ],\n",
        "       [-0.8556712 , -0.02037659]], dtype='float')\n",
        "b4 = np.array([0.72271085, 0.8682301 ], dtype='float')\n",
        "\n",
        "w5 = np.array([[ 0.36491808],\n",
        "       [-0.01860785]], dtype='float')\n",
        "b5 = np.array([0.64554816], dtype='float')\n",
        "\n",
        "\n"
      ],
      "metadata": {
        "id": "TiEAJ8eFnGni"
      },
      "execution_count": 29,
      "outputs": []
    },
    {
      "cell_type": "code",
      "source": [
        "test_1.head()"
      ],
      "metadata": {
        "colab": {
          "base_uri": "https://localhost:8080/",
          "height": 220
        },
        "id": "1Lx8PxWiEBVx",
        "outputId": "ce8bca70-ce57-4511-ad01-c91df94f7b75"
      },
      "execution_count": 30,
      "outputs": [
        {
          "output_type": "execute_result",
          "data": {
            "text/plain": [
              "     One  UrbanP  LateB  WineC  LiquorC   CDR\n",
              "                                             \n",
              "28     1      52   43.8      6       46  40.1\n",
              "39     1      85   56.1     23       74  97.5\n",
              "13     1      36   36.9     10       48  53.1\n",
              "42     1      37   32.4      2       41  29.7\n",
              "41     1      84   50.0     16       63  90.5"
            ],
            "text/html": [
              "\n",
              "  <div id=\"df-aa1ad545-397f-4732-8bb1-9c8a34bf20ba\">\n",
              "    <div class=\"colab-df-container\">\n",
              "      <div>\n",
              "<style scoped>\n",
              "    .dataframe tbody tr th:only-of-type {\n",
              "        vertical-align: middle;\n",
              "    }\n",
              "\n",
              "    .dataframe tbody tr th {\n",
              "        vertical-align: top;\n",
              "    }\n",
              "\n",
              "    .dataframe thead th {\n",
              "        text-align: right;\n",
              "    }\n",
              "</style>\n",
              "<table border=\"1\" class=\"dataframe\">\n",
              "  <thead>\n",
              "    <tr style=\"text-align: right;\">\n",
              "      <th></th>\n",
              "      <th>One</th>\n",
              "      <th>UrbanP</th>\n",
              "      <th>LateB</th>\n",
              "      <th>WineC</th>\n",
              "      <th>LiquorC</th>\n",
              "      <th>CDR</th>\n",
              "    </tr>\n",
              "    <tr>\n",
              "      <th></th>\n",
              "      <th></th>\n",
              "      <th></th>\n",
              "      <th></th>\n",
              "      <th></th>\n",
              "      <th></th>\n",
              "      <th></th>\n",
              "    </tr>\n",
              "  </thead>\n",
              "  <tbody>\n",
              "    <tr>\n",
              "      <th>28</th>\n",
              "      <td>1</td>\n",
              "      <td>52</td>\n",
              "      <td>43.8</td>\n",
              "      <td>6</td>\n",
              "      <td>46</td>\n",
              "      <td>40.1</td>\n",
              "    </tr>\n",
              "    <tr>\n",
              "      <th>39</th>\n",
              "      <td>1</td>\n",
              "      <td>85</td>\n",
              "      <td>56.1</td>\n",
              "      <td>23</td>\n",
              "      <td>74</td>\n",
              "      <td>97.5</td>\n",
              "    </tr>\n",
              "    <tr>\n",
              "      <th>13</th>\n",
              "      <td>1</td>\n",
              "      <td>36</td>\n",
              "      <td>36.9</td>\n",
              "      <td>10</td>\n",
              "      <td>48</td>\n",
              "      <td>53.1</td>\n",
              "    </tr>\n",
              "    <tr>\n",
              "      <th>42</th>\n",
              "      <td>1</td>\n",
              "      <td>37</td>\n",
              "      <td>32.4</td>\n",
              "      <td>2</td>\n",
              "      <td>41</td>\n",
              "      <td>29.7</td>\n",
              "    </tr>\n",
              "    <tr>\n",
              "      <th>41</th>\n",
              "      <td>1</td>\n",
              "      <td>84</td>\n",
              "      <td>50.0</td>\n",
              "      <td>16</td>\n",
              "      <td>63</td>\n",
              "      <td>90.5</td>\n",
              "    </tr>\n",
              "  </tbody>\n",
              "</table>\n",
              "</div>\n",
              "      <button class=\"colab-df-convert\" onclick=\"convertToInteractive('df-aa1ad545-397f-4732-8bb1-9c8a34bf20ba')\"\n",
              "              title=\"Convert this dataframe to an interactive table.\"\n",
              "              style=\"display:none;\">\n",
              "        \n",
              "  <svg xmlns=\"http://www.w3.org/2000/svg\" height=\"24px\"viewBox=\"0 0 24 24\"\n",
              "       width=\"24px\">\n",
              "    <path d=\"M0 0h24v24H0V0z\" fill=\"none\"/>\n",
              "    <path d=\"M18.56 5.44l.94 2.06.94-2.06 2.06-.94-2.06-.94-.94-2.06-.94 2.06-2.06.94zm-11 1L8.5 8.5l.94-2.06 2.06-.94-2.06-.94L8.5 2.5l-.94 2.06-2.06.94zm10 10l.94 2.06.94-2.06 2.06-.94-2.06-.94-.94-2.06-.94 2.06-2.06.94z\"/><path d=\"M17.41 7.96l-1.37-1.37c-.4-.4-.92-.59-1.43-.59-.52 0-1.04.2-1.43.59L10.3 9.45l-7.72 7.72c-.78.78-.78 2.05 0 2.83L4 21.41c.39.39.9.59 1.41.59.51 0 1.02-.2 1.41-.59l7.78-7.78 2.81-2.81c.8-.78.8-2.07 0-2.86zM5.41 20L4 18.59l7.72-7.72 1.47 1.35L5.41 20z\"/>\n",
              "  </svg>\n",
              "      </button>\n",
              "      \n",
              "  <style>\n",
              "    .colab-df-container {\n",
              "      display:flex;\n",
              "      flex-wrap:wrap;\n",
              "      gap: 12px;\n",
              "    }\n",
              "\n",
              "    .colab-df-convert {\n",
              "      background-color: #E8F0FE;\n",
              "      border: none;\n",
              "      border-radius: 50%;\n",
              "      cursor: pointer;\n",
              "      display: none;\n",
              "      fill: #1967D2;\n",
              "      height: 32px;\n",
              "      padding: 0 0 0 0;\n",
              "      width: 32px;\n",
              "    }\n",
              "\n",
              "    .colab-df-convert:hover {\n",
              "      background-color: #E2EBFA;\n",
              "      box-shadow: 0px 1px 2px rgba(60, 64, 67, 0.3), 0px 1px 3px 1px rgba(60, 64, 67, 0.15);\n",
              "      fill: #174EA6;\n",
              "    }\n",
              "\n",
              "    [theme=dark] .colab-df-convert {\n",
              "      background-color: #3B4455;\n",
              "      fill: #D2E3FC;\n",
              "    }\n",
              "\n",
              "    [theme=dark] .colab-df-convert:hover {\n",
              "      background-color: #434B5C;\n",
              "      box-shadow: 0px 1px 3px 1px rgba(0, 0, 0, 0.15);\n",
              "      filter: drop-shadow(0px 1px 2px rgba(0, 0, 0, 0.3));\n",
              "      fill: #FFFFFF;\n",
              "    }\n",
              "  </style>\n",
              "\n",
              "      <script>\n",
              "        const buttonEl =\n",
              "          document.querySelector('#df-aa1ad545-397f-4732-8bb1-9c8a34bf20ba button.colab-df-convert');\n",
              "        buttonEl.style.display =\n",
              "          google.colab.kernel.accessAllowed ? 'block' : 'none';\n",
              "\n",
              "        async function convertToInteractive(key) {\n",
              "          const element = document.querySelector('#df-aa1ad545-397f-4732-8bb1-9c8a34bf20ba');\n",
              "          const dataTable =\n",
              "            await google.colab.kernel.invokeFunction('convertToInteractive',\n",
              "                                                     [key], {});\n",
              "          if (!dataTable) return;\n",
              "\n",
              "          const docLinkHtml = 'Like what you see? Visit the ' +\n",
              "            '<a target=\"_blank\" href=https://colab.research.google.com/notebooks/data_table.ipynb>data table notebook</a>'\n",
              "            + ' to learn more about interactive tables.';\n",
              "          element.innerHTML = '';\n",
              "          dataTable['output_type'] = 'display_data';\n",
              "          await google.colab.output.renderOutput(dataTable, element);\n",
              "          const docLink = document.createElement('div');\n",
              "          docLink.innerHTML = docLinkHtml;\n",
              "          element.appendChild(docLink);\n",
              "        }\n",
              "      </script>\n",
              "    </div>\n",
              "  </div>\n",
              "  "
            ]
          },
          "metadata": {},
          "execution_count": 30
        }
      ]
    },
    {
      "cell_type": "code",
      "source": [
        "test_1.info()"
      ],
      "metadata": {
        "colab": {
          "base_uri": "https://localhost:8080/"
        },
        "id": "9JdRGbm1EjmR",
        "outputId": "8fa548b1-1986-4693-9d34-0785619cbe1b"
      },
      "execution_count": 31,
      "outputs": [
        {
          "output_type": "stream",
          "name": "stdout",
          "text": [
            "<class 'pandas.core.frame.DataFrame'>\n",
            "Int64Index: 14 entries, 28 to 2\n",
            "Data columns (total 6 columns):\n",
            " #   Column   Non-Null Count  Dtype  \n",
            "---  ------   --------------  -----  \n",
            " 0    One     14 non-null     int64  \n",
            " 1   UrbanP   14 non-null     int64  \n",
            " 2   LateB    14 non-null     float64\n",
            " 3   WineC    14 non-null     int64  \n",
            " 4   LiquorC  14 non-null     int64  \n",
            " 5   CDR      14 non-null     float64\n",
            "dtypes: float64(2), int64(4)\n",
            "memory usage: 784.0 bytes\n"
          ]
        }
      ]
    },
    {
      "cell_type": "code",
      "source": [
        "# VALIDACION \n",
        "\n",
        "pot_pred = []  # Prediccion de Potencias CDR\n",
        "errorAb = [] # Error absoluto de cada prediccion\n",
        "\n",
        "for i in range(14):\n",
        "  U = test_1.iloc[i]['UrbanP']\n",
        "  L = test_1.iloc[i]['LateB']\n",
        "  W = test_1.iloc[i]['WineC']\n",
        "  I = test_1.iloc[i]['LiquorC']\n",
        "  entrada = np.array([[U,L,W,I]], dtype='float')\n",
        "  x1 = entrada.dot(w1) + b1\n",
        "  x2 = x1.dot(w2) + b2\n",
        "  x3 = x2.dot(w3) + b3\n",
        "  x4= x3.dot(w4) + b4\n",
        "  x5= x4.dot(w5)+ b5 \n",
        "  pot_pred.append(float(x5))\n",
        "\n",
        "for i in range(14):\n",
        "  error = 100*(abs(test_1.iloc[i]['CDR'] - pot_pred[i])/test_1.iloc[i]['CDR'])\n",
        "  errorAb.append(error)\n",
        "\n",
        "test_1[\"Pot Pred\"] = pot_pred\n",
        "test_1[\"Error %\"] = errorAb\n",
        "\n",
        "test_1"
      ],
      "metadata": {
        "colab": {
          "base_uri": "https://localhost:8080/",
          "height": 502
        },
        "id": "_6WmX4TRnPMV",
        "outputId": "24307df4-0978-4aa3-b8dc-7c0714c6658a"
      },
      "execution_count": 51,
      "outputs": [
        {
          "output_type": "execute_result",
          "data": {
            "text/plain": [
              "     One  UrbanP  LateB  WineC  LiquorC   CDR   Pot Pred    Error %\n",
              "                                                                   \n",
              "28     1      52   43.8      6       46  40.1  58.213362  45.170478\n",
              "39     1      85   56.1     23       74  97.5  95.957422   1.582131\n",
              "13     1      36   36.9     10       48  53.1  50.611618   4.686218\n",
              "42     1      37   32.4      2       41  29.7  43.370490  46.028585\n",
              "41     1      84   50.0     16       63  90.5  86.589910   4.320541\n",
              "14     1      47   38.9     10       69  55.4  62.775822  13.313758\n",
              "19     1      33   31.2      6       27  37.6  39.138909   4.092842\n",
              "12     1      65   32.1     12       33  34.3  60.525482  76.459131\n",
              "9      1      70   45.6     12       56  77.2  73.953905   4.204786\n",
              "3      1      48   40.6      3       38  39.4  51.272254  30.132625\n",
              "18     1      55   35.7     18       47  56.7  63.838976  12.590786\n",
              "25     1      45   35.6      4       26  52.3  45.268529  13.444495\n",
              "37     1      87   51.6     23       77  92.1  96.360312   4.625746\n",
              "2      1      43   33.8      4       41  31.7  47.930846  51.201406"
            ],
            "text/html": [
              "\n",
              "  <div id=\"df-9a572951-c5bc-4024-8e2f-6a1fdb5cec9a\">\n",
              "    <div class=\"colab-df-container\">\n",
              "      <div>\n",
              "<style scoped>\n",
              "    .dataframe tbody tr th:only-of-type {\n",
              "        vertical-align: middle;\n",
              "    }\n",
              "\n",
              "    .dataframe tbody tr th {\n",
              "        vertical-align: top;\n",
              "    }\n",
              "\n",
              "    .dataframe thead th {\n",
              "        text-align: right;\n",
              "    }\n",
              "</style>\n",
              "<table border=\"1\" class=\"dataframe\">\n",
              "  <thead>\n",
              "    <tr style=\"text-align: right;\">\n",
              "      <th></th>\n",
              "      <th>One</th>\n",
              "      <th>UrbanP</th>\n",
              "      <th>LateB</th>\n",
              "      <th>WineC</th>\n",
              "      <th>LiquorC</th>\n",
              "      <th>CDR</th>\n",
              "      <th>Pot Pred</th>\n",
              "      <th>Error %</th>\n",
              "    </tr>\n",
              "    <tr>\n",
              "      <th></th>\n",
              "      <th></th>\n",
              "      <th></th>\n",
              "      <th></th>\n",
              "      <th></th>\n",
              "      <th></th>\n",
              "      <th></th>\n",
              "      <th></th>\n",
              "      <th></th>\n",
              "    </tr>\n",
              "  </thead>\n",
              "  <tbody>\n",
              "    <tr>\n",
              "      <th>28</th>\n",
              "      <td>1</td>\n",
              "      <td>52</td>\n",
              "      <td>43.8</td>\n",
              "      <td>6</td>\n",
              "      <td>46</td>\n",
              "      <td>40.1</td>\n",
              "      <td>58.213362</td>\n",
              "      <td>45.170478</td>\n",
              "    </tr>\n",
              "    <tr>\n",
              "      <th>39</th>\n",
              "      <td>1</td>\n",
              "      <td>85</td>\n",
              "      <td>56.1</td>\n",
              "      <td>23</td>\n",
              "      <td>74</td>\n",
              "      <td>97.5</td>\n",
              "      <td>95.957422</td>\n",
              "      <td>1.582131</td>\n",
              "    </tr>\n",
              "    <tr>\n",
              "      <th>13</th>\n",
              "      <td>1</td>\n",
              "      <td>36</td>\n",
              "      <td>36.9</td>\n",
              "      <td>10</td>\n",
              "      <td>48</td>\n",
              "      <td>53.1</td>\n",
              "      <td>50.611618</td>\n",
              "      <td>4.686218</td>\n",
              "    </tr>\n",
              "    <tr>\n",
              "      <th>42</th>\n",
              "      <td>1</td>\n",
              "      <td>37</td>\n",
              "      <td>32.4</td>\n",
              "      <td>2</td>\n",
              "      <td>41</td>\n",
              "      <td>29.7</td>\n",
              "      <td>43.370490</td>\n",
              "      <td>46.028585</td>\n",
              "    </tr>\n",
              "    <tr>\n",
              "      <th>41</th>\n",
              "      <td>1</td>\n",
              "      <td>84</td>\n",
              "      <td>50.0</td>\n",
              "      <td>16</td>\n",
              "      <td>63</td>\n",
              "      <td>90.5</td>\n",
              "      <td>86.589910</td>\n",
              "      <td>4.320541</td>\n",
              "    </tr>\n",
              "    <tr>\n",
              "      <th>14</th>\n",
              "      <td>1</td>\n",
              "      <td>47</td>\n",
              "      <td>38.9</td>\n",
              "      <td>10</td>\n",
              "      <td>69</td>\n",
              "      <td>55.4</td>\n",
              "      <td>62.775822</td>\n",
              "      <td>13.313758</td>\n",
              "    </tr>\n",
              "    <tr>\n",
              "      <th>19</th>\n",
              "      <td>1</td>\n",
              "      <td>33</td>\n",
              "      <td>31.2</td>\n",
              "      <td>6</td>\n",
              "      <td>27</td>\n",
              "      <td>37.6</td>\n",
              "      <td>39.138909</td>\n",
              "      <td>4.092842</td>\n",
              "    </tr>\n",
              "    <tr>\n",
              "      <th>12</th>\n",
              "      <td>1</td>\n",
              "      <td>65</td>\n",
              "      <td>32.1</td>\n",
              "      <td>12</td>\n",
              "      <td>33</td>\n",
              "      <td>34.3</td>\n",
              "      <td>60.525482</td>\n",
              "      <td>76.459131</td>\n",
              "    </tr>\n",
              "    <tr>\n",
              "      <th>9</th>\n",
              "      <td>1</td>\n",
              "      <td>70</td>\n",
              "      <td>45.6</td>\n",
              "      <td>12</td>\n",
              "      <td>56</td>\n",
              "      <td>77.2</td>\n",
              "      <td>73.953905</td>\n",
              "      <td>4.204786</td>\n",
              "    </tr>\n",
              "    <tr>\n",
              "      <th>3</th>\n",
              "      <td>1</td>\n",
              "      <td>48</td>\n",
              "      <td>40.6</td>\n",
              "      <td>3</td>\n",
              "      <td>38</td>\n",
              "      <td>39.4</td>\n",
              "      <td>51.272254</td>\n",
              "      <td>30.132625</td>\n",
              "    </tr>\n",
              "    <tr>\n",
              "      <th>18</th>\n",
              "      <td>1</td>\n",
              "      <td>55</td>\n",
              "      <td>35.7</td>\n",
              "      <td>18</td>\n",
              "      <td>47</td>\n",
              "      <td>56.7</td>\n",
              "      <td>63.838976</td>\n",
              "      <td>12.590786</td>\n",
              "    </tr>\n",
              "    <tr>\n",
              "      <th>25</th>\n",
              "      <td>1</td>\n",
              "      <td>45</td>\n",
              "      <td>35.6</td>\n",
              "      <td>4</td>\n",
              "      <td>26</td>\n",
              "      <td>52.3</td>\n",
              "      <td>45.268529</td>\n",
              "      <td>13.444495</td>\n",
              "    </tr>\n",
              "    <tr>\n",
              "      <th>37</th>\n",
              "      <td>1</td>\n",
              "      <td>87</td>\n",
              "      <td>51.6</td>\n",
              "      <td>23</td>\n",
              "      <td>77</td>\n",
              "      <td>92.1</td>\n",
              "      <td>96.360312</td>\n",
              "      <td>4.625746</td>\n",
              "    </tr>\n",
              "    <tr>\n",
              "      <th>2</th>\n",
              "      <td>1</td>\n",
              "      <td>43</td>\n",
              "      <td>33.8</td>\n",
              "      <td>4</td>\n",
              "      <td>41</td>\n",
              "      <td>31.7</td>\n",
              "      <td>47.930846</td>\n",
              "      <td>51.201406</td>\n",
              "    </tr>\n",
              "  </tbody>\n",
              "</table>\n",
              "</div>\n",
              "      <button class=\"colab-df-convert\" onclick=\"convertToInteractive('df-9a572951-c5bc-4024-8e2f-6a1fdb5cec9a')\"\n",
              "              title=\"Convert this dataframe to an interactive table.\"\n",
              "              style=\"display:none;\">\n",
              "        \n",
              "  <svg xmlns=\"http://www.w3.org/2000/svg\" height=\"24px\"viewBox=\"0 0 24 24\"\n",
              "       width=\"24px\">\n",
              "    <path d=\"M0 0h24v24H0V0z\" fill=\"none\"/>\n",
              "    <path d=\"M18.56 5.44l.94 2.06.94-2.06 2.06-.94-2.06-.94-.94-2.06-.94 2.06-2.06.94zm-11 1L8.5 8.5l.94-2.06 2.06-.94-2.06-.94L8.5 2.5l-.94 2.06-2.06.94zm10 10l.94 2.06.94-2.06 2.06-.94-2.06-.94-.94-2.06-.94 2.06-2.06.94z\"/><path d=\"M17.41 7.96l-1.37-1.37c-.4-.4-.92-.59-1.43-.59-.52 0-1.04.2-1.43.59L10.3 9.45l-7.72 7.72c-.78.78-.78 2.05 0 2.83L4 21.41c.39.39.9.59 1.41.59.51 0 1.02-.2 1.41-.59l7.78-7.78 2.81-2.81c.8-.78.8-2.07 0-2.86zM5.41 20L4 18.59l7.72-7.72 1.47 1.35L5.41 20z\"/>\n",
              "  </svg>\n",
              "      </button>\n",
              "      \n",
              "  <style>\n",
              "    .colab-df-container {\n",
              "      display:flex;\n",
              "      flex-wrap:wrap;\n",
              "      gap: 12px;\n",
              "    }\n",
              "\n",
              "    .colab-df-convert {\n",
              "      background-color: #E8F0FE;\n",
              "      border: none;\n",
              "      border-radius: 50%;\n",
              "      cursor: pointer;\n",
              "      display: none;\n",
              "      fill: #1967D2;\n",
              "      height: 32px;\n",
              "      padding: 0 0 0 0;\n",
              "      width: 32px;\n",
              "    }\n",
              "\n",
              "    .colab-df-convert:hover {\n",
              "      background-color: #E2EBFA;\n",
              "      box-shadow: 0px 1px 2px rgba(60, 64, 67, 0.3), 0px 1px 3px 1px rgba(60, 64, 67, 0.15);\n",
              "      fill: #174EA6;\n",
              "    }\n",
              "\n",
              "    [theme=dark] .colab-df-convert {\n",
              "      background-color: #3B4455;\n",
              "      fill: #D2E3FC;\n",
              "    }\n",
              "\n",
              "    [theme=dark] .colab-df-convert:hover {\n",
              "      background-color: #434B5C;\n",
              "      box-shadow: 0px 1px 3px 1px rgba(0, 0, 0, 0.15);\n",
              "      filter: drop-shadow(0px 1px 2px rgba(0, 0, 0, 0.3));\n",
              "      fill: #FFFFFF;\n",
              "    }\n",
              "  </style>\n",
              "\n",
              "      <script>\n",
              "        const buttonEl =\n",
              "          document.querySelector('#df-9a572951-c5bc-4024-8e2f-6a1fdb5cec9a button.colab-df-convert');\n",
              "        buttonEl.style.display =\n",
              "          google.colab.kernel.accessAllowed ? 'block' : 'none';\n",
              "\n",
              "        async function convertToInteractive(key) {\n",
              "          const element = document.querySelector('#df-9a572951-c5bc-4024-8e2f-6a1fdb5cec9a');\n",
              "          const dataTable =\n",
              "            await google.colab.kernel.invokeFunction('convertToInteractive',\n",
              "                                                     [key], {});\n",
              "          if (!dataTable) return;\n",
              "\n",
              "          const docLinkHtml = 'Like what you see? Visit the ' +\n",
              "            '<a target=\"_blank\" href=https://colab.research.google.com/notebooks/data_table.ipynb>data table notebook</a>'\n",
              "            + ' to learn more about interactive tables.';\n",
              "          element.innerHTML = '';\n",
              "          dataTable['output_type'] = 'display_data';\n",
              "          await google.colab.output.renderOutput(dataTable, element);\n",
              "          const docLink = document.createElement('div');\n",
              "          docLink.innerHTML = docLinkHtml;\n",
              "          element.appendChild(docLink);\n",
              "        }\n",
              "      </script>\n",
              "    </div>\n",
              "  </div>\n",
              "  "
            ]
          },
          "metadata": {},
          "execution_count": 51
        }
      ]
    },
    {
      "cell_type": "code",
      "source": [
        "# Graficamos el error\n",
        "plt.hist(test_1['Error %'])"
      ],
      "metadata": {
        "colab": {
          "base_uri": "https://localhost:8080/",
          "height": 352
        },
        "id": "sWuPNO7IFbLI",
        "outputId": "e6284023-73d4-46a4-ae26-4001751efe39"
      },
      "execution_count": 52,
      "outputs": [
        {
          "output_type": "execute_result",
          "data": {
            "text/plain": [
              "(array([6., 3., 0., 1., 0., 2., 1., 0., 0., 1.]),\n",
              " array([ 1.5821315 ,  9.06983141, 16.55753131, 24.04523122, 31.53293113,\n",
              "        39.02063104, 46.50833094, 53.99603085, 61.48373076, 68.97143067,\n",
              "        76.45913057]),\n",
              " <a list of 10 Patch objects>)"
            ]
          },
          "metadata": {},
          "execution_count": 52
        },
        {
          "output_type": "display_data",
          "data": {
            "text/plain": [
              "<Figure size 432x288 with 1 Axes>"
            ],
            "image/png": "[encoded data removed]"
          },
          "metadata": {
            "needs_background": "light"
          }
        }
      ]
    },
    {
      "cell_type": "code",
      "source": [
        "x = []\n",
        "for i in range(14):\n",
        "  x.append(i)\n",
        "\n",
        "plt.figure(figsize=(20,10))\n",
        "plt.scatter(x,test_1['CDR'])\n",
        "plt.scatter(x,test_1['Pot Pred'])"
      ],
      "metadata": {
        "colab": {
          "base_uri": "https://localhost:8080/",
          "height": 629
        },
        "id": "MPqYY88vGnDa",
        "outputId": "bf3155a3-db5e-4f51-bea1-60cf2766d1d9"
      },
      "execution_count": 56,
      "outputs": [
        {
          "output_type": "execute_result",
          "data": {
            "text/plain": [
              "<matplotlib.collections.PathCollection at 0x7fa7c43f4f10>"
            ]
          },
          "metadata": {},
          "execution_count": 56
        },
        {
          "output_type": "display_data",
          "data": {
            "text/plain": [
              "<Figure size 1440x720 with 1 Axes>"
            ],
            "image/png": "[encoded data removed]"
          },
          "metadata": {
            "needs_background": "light"
          }
        }
      ]
    },
    {
      "cell_type": "markdown",
      "source": [
        "Podemos analizar que ésta red no nos permite con las iteraciones asignadas un modelo en el que podamos confiar \n",
        "en gran medida. Se presenta un margen de error en el modelo B = A0 * X0 + A1 * X1 + A2 * X2 + A3 * X3 + A4 * X4 que\n",
        "se intenta predecir"
      ],
      "metadata": {
        "id": "dA7hL_vGx_Fl"
      }
    }
  ],
  "metadata": {
    "accelerator": "GPU",
    "colab": {
      "provenance": []
    },
    "kernelspec": {
      "display_name": "Python 3",
      "name": "python3"
    },
    "language_info": {
      "name": "python"
    }
  },
  "nbformat": 4,
  "nbformat_minor": 0
}